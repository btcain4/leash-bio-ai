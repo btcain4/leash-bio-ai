{
 "cells": [
  {
   "cell_type": "markdown",
   "metadata": {},
   "source": [
    "# Gold EDA\n",
    "\n",
    "This notebook conducts EDA aimed at generating a gold layer of data, which is considered ready for model consumption. EDA in this notebook will analyze the various predictor variables in the context of the \"binds\" target variable. It will also analyze some options for converting the \"molecule_smiles\" string representation of a molecule into a numeric representation that can be better consumed by a model. \n",
    "\n",
    "Recall this project uses a psuedo [medallion](https://www.databricks.com/glossary/medallion-architecture) where the gold layer is model ready data. "
   ]
  }
 ],
 "metadata": {
  "language_info": {
   "name": "python"
  }
 },
 "nbformat": 4,
 "nbformat_minor": 2
}
