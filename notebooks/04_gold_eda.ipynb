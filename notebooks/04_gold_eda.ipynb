{
 "cells": [
  {
   "cell_type": "markdown",
   "metadata": {},
   "source": [
    "# Gold EDA\n",
    "\n",
    "This notebook conducts EDA aimed at generating a gold layer of data, which is considered ready for model consumption. EDA in this notebook will analyze the various predictor variables in the context of the \"binds\" target variable. It will also analyze some options for converting the \"molecule_smiles\" string representation of a molecule into a numeric representation that can be better consumed by a model. \n",
    "\n",
    "Recall this project uses a psuedo [medallion](https://www.databricks.com/glossary/medallion-architecture) where the gold layer is model ready data. "
   ]
  },
  {
   "cell_type": "code",
   "execution_count": 1,
   "metadata": {},
   "outputs": [],
   "source": [
    "import sys\n",
    "import polars as pl\n",
    "import matplotlib.pyplot as plt\n",
    "\n",
    "sys.path.append('..')\n",
    "from leash_bio_ai.utils.conf import silver_train_dir"
   ]
  },
  {
   "cell_type": "code",
   "execution_count": 3,
   "metadata": {},
   "outputs": [
    {
     "data": {
      "text/html": [
       "<div><style>\n",
       ".dataframe > thead > tr,\n",
       ".dataframe > tbody > tr {\n",
       "  text-align: right;\n",
       "  white-space: pre-wrap;\n",
       "}\n",
       "</style>\n",
       "<small>shape: (5, 4)</small><table border=\"1\" class=\"dataframe\"><thead><tr><th>id</th><th>molecule_smiles</th><th>protein_int</th><th>binds</th></tr><tr><td>i64</td><td>str</td><td>i8</td><td>i8</td></tr></thead><tbody><tr><td>466</td><td>&quot;C#CCOc1ccc(CNc2nc(NCc3ccc4[nH]…</td><td>1</td><td>1</td></tr><tr><td>467</td><td>&quot;C#CCOc1ccc(CNc2nc(NCc3ccc4[nH]…</td><td>2</td><td>1</td></tr><tr><td>683</td><td>&quot;C#CCOc1ccc(CNc2nc(NCC34CC5CC(C…</td><td>2</td><td>1</td></tr><tr><td>1321</td><td>&quot;C#CCOc1ccc(CNc2nc(Nc3n[nH]c4nc…</td><td>1</td><td>1</td></tr><tr><td>2141</td><td>&quot;C#CCOc1cccc(CNc2nc(NCc3ccc4[nH…</td><td>2</td><td>1</td></tr></tbody></table></div>"
      ],
      "text/plain": [
       "shape: (5, 4)\n",
       "┌──────┬─────────────────────────────────┬─────────────┬───────┐\n",
       "│ id   ┆ molecule_smiles                 ┆ protein_int ┆ binds │\n",
       "│ ---  ┆ ---                             ┆ ---         ┆ ---   │\n",
       "│ i64  ┆ str                             ┆ i8          ┆ i8    │\n",
       "╞══════╪═════════════════════════════════╪═════════════╪═══════╡\n",
       "│ 466  ┆ C#CCOc1ccc(CNc2nc(NCc3ccc4[nH]… ┆ 1           ┆ 1     │\n",
       "│ 467  ┆ C#CCOc1ccc(CNc2nc(NCc3ccc4[nH]… ┆ 2           ┆ 1     │\n",
       "│ 683  ┆ C#CCOc1ccc(CNc2nc(NCC34CC5CC(C… ┆ 2           ┆ 1     │\n",
       "│ 1321 ┆ C#CCOc1ccc(CNc2nc(Nc3n[nH]c4nc… ┆ 1           ┆ 1     │\n",
       "│ 2141 ┆ C#CCOc1cccc(CNc2nc(NCc3ccc4[nH… ┆ 2           ┆ 1     │\n",
       "└──────┴─────────────────────────────────┴─────────────┴───────┘"
      ]
     },
     "execution_count": 3,
     "metadata": {},
     "output_type": "execute_result"
    }
   ],
   "source": [
    "silver_df = pl.read_parquet(source=silver_train_dir)\n",
    "silver_df.head()"
   ]
  },
  {
   "cell_type": "markdown",
   "metadata": {},
   "source": [
    "### Protein Integer"
   ]
  },
  {
   "cell_type": "markdown",
   "metadata": {},
   "source": [
    "### Molecule Smiles"
   ]
  }
 ],
 "metadata": {
  "kernelspec": {
   "display_name": ".venv",
   "language": "python",
   "name": "python3"
  },
  "language_info": {
   "codemirror_mode": {
    "name": "ipython",
    "version": 3
   },
   "file_extension": ".py",
   "mimetype": "text/x-python",
   "name": "python",
   "nbconvert_exporter": "python",
   "pygments_lexer": "ipython3",
   "version": "3.12.0"
  }
 },
 "nbformat": 4,
 "nbformat_minor": 2
}
